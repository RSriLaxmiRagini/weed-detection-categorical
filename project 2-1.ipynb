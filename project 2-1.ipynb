{
 "cells": [
  {
   "cell_type": "code",
   "execution_count": 1,
   "metadata": {},
   "outputs": [
    {
     "name": "stderr",
     "output_type": "stream",
     "text": [
      "Using TensorFlow backend.\n"
     ]
    }
   ],
   "source": [
    "import keras\n",
    "# 3 layers of convolutional neural network cnn\n",
    "from keras.layers import Conv2D #convolution layer is being imported\n",
    "from keras.layers import MaxPooling2D #pooling layer\n",
    "from keras.layers import Flatten #flatten layer \n",
    "# artificial neural network ann\n",
    "from keras.models import Sequential #to initilise the model\n",
    "from keras.layers import Dense"
   ]
  },
  {
   "cell_type": "code",
   "execution_count": 2,
   "metadata": {},
   "outputs": [],
   "source": [
    "from keras.models import Sequential #to initilise the model\n",
    "model=Sequential() "
   ]
  },
  {
   "cell_type": "code",
   "execution_count": 3,
   "metadata": {},
   "outputs": [
    {
     "name": "stdout",
     "output_type": "stream",
     "text": [
      "WARNING:tensorflow:From C:\\Users\\Sai Sreeja\\Anaconda3\\lib\\site-packages\\tensorflow\\python\\framework\\op_def_library.py:263: colocate_with (from tensorflow.python.framework.ops) is deprecated and will be removed in a future version.\n",
      "Instructions for updating:\n",
      "Colocations handled automatically by placer.\n"
     ]
    },
    {
     "name": "stderr",
     "output_type": "stream",
     "text": [
      "C:\\Users\\Sai Sreeja\\Anaconda3\\lib\\site-packages\\ipykernel_launcher.py:1: UserWarning: Update your `Conv2D` call to the Keras 2 API: `Conv2D(32, (3, 3), input_shape=(64, 64, 3..., activation=\"softmax\")`\n",
      "  \"\"\"Entry point for launching an IPython kernel.\n"
     ]
    }
   ],
   "source": [
    "model.add(Conv2D(32,3,3,input_shape=(64,64,3),activation='softmax'))"
   ]
  },
  {
   "cell_type": "code",
   "execution_count": 4,
   "metadata": {},
   "outputs": [],
   "source": [
    "model.add(MaxPooling2D(pool_size=(2,2))) "
   ]
  },
  {
   "cell_type": "code",
   "execution_count": 5,
   "metadata": {},
   "outputs": [],
   "source": [
    "model.add(Flatten()) "
   ]
  },
  {
   "cell_type": "code",
   "execution_count": 6,
   "metadata": {},
   "outputs": [
    {
     "name": "stderr",
     "output_type": "stream",
     "text": [
      "C:\\Users\\Sai Sreeja\\Anaconda3\\lib\\site-packages\\ipykernel_launcher.py:1: UserWarning: Update your `Dense` call to the Keras 2 API: `Dense(activation=\"relu\", units=128, kernel_initializer=\"random_uniform\")`\n",
      "  \"\"\"Entry point for launching an IPython kernel.\n"
     ]
    }
   ],
   "source": [
    "model.add(Dense(output_dim=128,activation='relu',init='random_uniform')) "
   ]
  },
  {
   "cell_type": "code",
   "execution_count": 7,
   "metadata": {},
   "outputs": [
    {
     "name": "stderr",
     "output_type": "stream",
     "text": [
      "C:\\Users\\Sai Sreeja\\Anaconda3\\lib\\site-packages\\ipykernel_launcher.py:1: UserWarning: Update your `Dense` call to the Keras 2 API: `Dense(activation=\"softmax\", units=4, kernel_initializer=\"random_uniform\")`\n",
      "  \"\"\"Entry point for launching an IPython kernel.\n"
     ]
    }
   ],
   "source": [
    "model.add(Dense(output_dim=4,activation='softmax',init='random_uniform'))"
   ]
  },
  {
   "cell_type": "code",
   "execution_count": 8,
   "metadata": {},
   "outputs": [],
   "source": [
    "model.compile(optimizer='adam',loss='categorical_crossentropy',metrics=['accuracy'])"
   ]
  },
  {
   "cell_type": "code",
   "execution_count": 9,
   "metadata": {},
   "outputs": [],
   "source": [
    "from keras.preprocessing.image import ImageDataGenerator"
   ]
  },
  {
   "cell_type": "code",
   "execution_count": 10,
   "metadata": {},
   "outputs": [],
   "source": [
    "train_datagen=ImageDataGenerator(rescale=1./255,shear_range=0.2,zoom_range=0.2,horizontal_flip=True) #rescale:image has pixels,values are from 0-255 hence here rescale 1./255 is used;shear range rotates the image in clockwise ;zoom range is used to extract the features ;we use all these to avoid overfitting\n",
    "test_datagen=ImageDataGenerator(rescale=1./255)"
   ]
  },
  {
   "cell_type": "code",
   "execution_count": 11,
   "metadata": {},
   "outputs": [
    {
     "name": "stdout",
     "output_type": "stream",
     "text": [
      "Found 11992 images belonging to 4 classes.\n",
      "Found 3622 images belonging to 4 classes.\n"
     ]
    }
   ],
   "source": [
    "x_train=train_datagen.flow_from_directory(r\"C:\\Users\\Sai Sreeja\\Desktop\\DONE\\data_train\",target_size=(64,64),batch_size=32,class_mode='categorical')\n",
    "x_test=test_datagen.flow_from_directory(r\"C:\\Users\\Sai Sreeja\\Desktop\\DONE\\data_test\",target_size=(64,64),batch_size=32,class_mode='categorical')"
   ]
  },
  {
   "cell_type": "code",
   "execution_count": 12,
   "metadata": {},
   "outputs": [
    {
     "name": "stdout",
     "output_type": "stream",
     "text": [
      "{'broadleaf': 0, 'grass': 1, 'soil': 2, 'soyabean': 3}\n"
     ]
    }
   ],
   "source": [
    "print(x_train.class_indices)"
   ]
  },
  {
   "cell_type": "code",
   "execution_count": 17,
   "metadata": {},
   "outputs": [
    {
     "name": "stdout",
     "output_type": "stream",
     "text": [
      "Epoch 1/15\n"
     ]
    },
    {
     "name": "stderr",
     "output_type": "stream",
     "text": [
      "C:\\Users\\Sai Sreeja\\Anaconda3\\lib\\site-packages\\ipykernel_launcher.py:1: UserWarning: The semantics of the Keras 2 argument `steps_per_epoch` is not the same as the Keras 1 argument `samples_per_epoch`. `steps_per_epoch` is the number of batches to draw from the generator at each epoch. Basically steps_per_epoch = samples_per_epoch/batch_size. Similarly `nb_val_samples`->`validation_steps` and `val_samples`->`steps` arguments have changed. Update your method calls accordingly.\n",
      "  \"\"\"Entry point for launching an IPython kernel.\n",
      "C:\\Users\\Sai Sreeja\\Anaconda3\\lib\\site-packages\\ipykernel_launcher.py:1: UserWarning: Update your `fit_generator` call to the Keras 2 API: `fit_generator(<keras_pre..., epochs=15, validation_data=<keras_pre..., steps_per_epoch=374, validation_steps=3622)`\n",
      "  \"\"\"Entry point for launching an IPython kernel.\n"
     ]
    },
    {
     "name": "stdout",
     "output_type": "stream",
     "text": [
      "374/374 [==============================] - 1528s 4s/step - loss: 0.5019 - acc: 0.8085 - val_loss: 0.5352 - val_acc: 0.8124\n",
      "Epoch 2/15\n",
      "374/374 [==============================] - 1541s 4s/step - loss: 0.4717 - acc: 0.8223 - val_loss: 0.4874 - val_acc: 0.8158\n",
      "Epoch 3/15\n",
      "374/374 [==============================] - 1567s 4s/step - loss: 0.4267 - acc: 0.8378 - val_loss: 0.4532 - val_acc: 0.8202\n",
      "Epoch 4/15\n",
      "374/374 [==============================] - 1599s 4s/step - loss: 0.3930 - acc: 0.8495 - val_loss: 0.3721 - val_acc: 0.8559\n",
      "Epoch 5/15\n",
      "374/374 [==============================] - 1531s 4s/step - loss: 0.3460 - acc: 0.8659 - val_loss: 0.3510 - val_acc: 0.8626\n",
      "Epoch 6/15\n",
      "374/374 [==============================] - 1499s 4s/step - loss: 0.3291 - acc: 0.8730 - val_loss: 0.3275 - val_acc: 0.8638\n",
      "Epoch 7/15\n",
      "374/374 [==============================] - 34644s 93s/step - loss: 0.3036 - acc: 0.8868 - val_loss: 0.2979 - val_acc: 0.8802\n",
      "Epoch 8/15\n",
      "374/374 [==============================] - 1630s 4s/step - loss: 0.3026 - acc: 0.8838 - val_loss: 0.3051 - val_acc: 0.8845\n",
      "Epoch 9/15\n",
      "374/374 [==============================] - 1500s 4s/step - loss: 0.2919 - acc: 0.8942 - val_loss: 0.3204 - val_acc: 0.8789\n",
      "Epoch 10/15\n",
      "374/374 [==============================] - 1496s 4s/step - loss: 0.2883 - acc: 0.8934 - val_loss: 0.3588 - val_acc: 0.8589\n",
      "Epoch 11/15\n",
      "374/374 [==============================] - 1442s 4s/step - loss: 0.2706 - acc: 0.8992 - val_loss: 0.2793 - val_acc: 0.8899\n",
      "Epoch 12/15\n",
      "374/374 [==============================] - 1694s 5s/step - loss: 0.2786 - acc: 0.8939 - val_loss: 0.2869 - val_acc: 0.8935\n",
      "Epoch 13/15\n",
      "374/374 [==============================] - 2393s 6s/step - loss: 0.2686 - acc: 0.9001 - val_loss: 0.2744 - val_acc: 0.8977\n",
      "Epoch 14/15\n",
      "374/374 [==============================] - 1813s 5s/step - loss: 0.2686 - acc: 0.9014 - val_loss: 0.2725 - val_acc: 0.8981\n",
      "Epoch 15/15\n",
      "374/374 [==============================] - 1842s 5s/step - loss: 0.2530 - acc: 0.9075 - val_loss: 0.3020 - val_acc: 0.8888\n"
     ]
    },
    {
     "data": {
      "text/plain": [
       "<keras.callbacks.History at 0x201526af908>"
      ]
     },
     "execution_count": 17,
     "metadata": {},
     "output_type": "execute_result"
    }
   ],
   "source": [
    "model.fit_generator(x_train,samples_per_epoch=11992,epochs=15,validation_data=x_test,nb_val_samples=3622)"
   ]
  },
  {
   "cell_type": "code",
   "execution_count": 18,
   "metadata": {},
   "outputs": [],
   "source": [
    "model.save(\"code.h5\")"
   ]
  }
 ],
 "metadata": {
  "kernelspec": {
   "display_name": "Python 3",
   "language": "python",
   "name": "python3"
  },
  "language_info": {
   "codemirror_mode": {
    "name": "ipython",
    "version": 3
   },
   "file_extension": ".py",
   "mimetype": "text/x-python",
   "name": "python",
   "nbconvert_exporter": "python",
   "pygments_lexer": "ipython3",
   "version": "3.7.1"
  }
 },
 "nbformat": 4,
 "nbformat_minor": 2
}
